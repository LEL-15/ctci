{
 "cells": [
  {
   "cell_type": "markdown",
   "metadata": {},
   "source": [
    "## Chapter 4: Trees and Graphs"
   ]
  },
  {
   "cell_type": "code",
   "execution_count": 4,
   "metadata": {},
   "outputs": [],
   "source": [
    "# Adjancency list graph\n",
    "class Graph():\n",
    "    def __init__(self):\n",
    "        self.nodes = []\n",
    "    def add(node):\n",
    "        self.nodes.append(node)\n",
    "class Node():\n",
    "    def __init__(self, name, adjacent=[],marked=False):\n",
    "        self.name = name\n",
    "        self.adjacent = adjacent\n",
    "        self.marked = marked"
   ]
  },
  {
   "cell_type": "markdown",
   "metadata": {},
   "source": [
    "#### 4.1 Route Between Nodes\n",
    "Given a directed graph, design an algorithm to find out whether there is a route between two nodes."
   ]
  },
  {
   "cell_type": "code",
   "execution_count": 1,
   "metadata": {},
   "outputs": [],
   "source": [
    "# Bidirectional breadth-first search.\n",
    "def route(node1, node2):\n",
    "    # Create the queue\n",
    "    queue1 = []\n",
    "    queue2 = []\n",
    "    node1.marked = True\n",
    "    node2.marked = True\n",
    "    queue1.append(node1)\n",
    "    queue2.append(node2)\n",
    "    \n",
    "    while (len(queue1) > 0) and (len(queue2) > 0):\n",
    "        n1 = queue1.pop(0)\n",
    "        n2 = queue2.pop(0)\n",
    "        if n1 == n2:\n",
    "            return True\n",
    "        queue1 = check_neighbor(node1, queue1)\n",
    "        queue2 = check_neighbor(node2, queue2)\n",
    "\n",
    "def check_neighbor(node, queue):\n",
    "    for neighbor in node.adjacent:\n",
    "            if (neighbor.marked == False):\n",
    "                neighbor.marked = True\n",
    "                queue.append(neighbor)\n",
    "    return queue"
   ]
  },
  {
   "cell_type": "code",
   "execution_count": 6,
   "metadata": {},
   "outputs": [],
   "source": [
    "test = []\n",
    "while test:\n",
    "    print(True)"
   ]
  },
  {
   "cell_type": "markdown",
   "metadata": {},
   "source": [
    "#### 4.2 Minimal Tree\n",
    "Given a sorted (increasing order) array with unique integer elements, write an algorithm to create a binary search tree with minimal height."
   ]
  },
  {
   "cell_type": "code",
   "execution_count": 6,
   "metadata": {},
   "outputs": [],
   "source": [
    "class Node():\n",
    "    def __init__(self, data, left=None, right=None):\n",
    "        self.data = data\n",
    "        self.left = left\n",
    "        self.right = right\n",
    "\n",
    "def minimal(array):\n",
    "    start = 0\n",
    "    end = len(array) - 1\n",
    "    if end < start:\n",
    "        return None\n",
    "    mid = int((start + end) / 2)\n",
    "    # Recursively place the nodes\n",
    "    return Node(mid, minimal(array, start, mid - 1), minimal(array, mid + 1, end))"
   ]
  },
  {
   "cell_type": "markdown",
   "metadata": {},
   "source": [
    "#### 4.3 List of Depths\n",
    "Given a binary tree, design an algorithm which creates a linked list of all the nodes at each depth (e.g., if you have a tree with depth D, you'll have D linked lists)."
   ]
  },
  {
   "cell_type": "code",
   "execution_count": 7,
   "metadata": {},
   "outputs": [],
   "source": [
    "class LinkedList():\n",
    "    def __init__(self, data):\n",
    "        self.data = data\n",
    "        self.next = None\n",
    "    def insert(node):\n",
    "        self.next = node\n",
    "\n",
    "def list_of_depths(root, full_list, level):\n",
    "    if root is None:\n",
    "        return\n",
    "    lnkedlst = LinkedList(None)\n",
    "    if len(full_list) == level:\n",
    "        lnkedlst = LinkedList(None)\n",
    "        full_list.append(lnkedlst)\n",
    "    else:\n",
    "        lnkedlst = full_list[level]\n",
    "    lnkedlst.insert(root)\n",
    "    list_of_depths(root.left, full_list, level + 1)\n",
    "    list_of_depths(root.right, full_list, level + 1)\n",
    "\n",
    "def levels_linked(root):\n",
    "    full_list = []\n",
    "    list_of_depths(root, full_list, 0)\n",
    "    return full_list"
   ]
  },
  {
   "cell_type": "markdown",
   "metadata": {},
   "source": [
    "#### 4.4 Check Balanced\n",
    "Implement a function to check if a binary tree is balanced. For the purposes of this question, a balanced tree is defined to be a tree such that the heights of the two subtrees of any node never differ by more than one."
   ]
  },
  {
   "cell_type": "code",
   "execution_count": 9,
   "metadata": {},
   "outputs": [],
   "source": [
    "def check_height(root):\n",
    "    # Define an error code to return if a sub-tree is not balanced\n",
    "    min_int = -sys.maxsize - 1\n",
    "    # The height of the null tree is -1\n",
    "    if root is None:\n",
    "        return -1\n",
    "    # Check the height of the left sub-tree. If it's min-int, it is unbalanced\n",
    "    left_height = check_height(root.left)\n",
    "    if left_height == min_int:\n",
    "        return min_int\n",
    "    # Check the height of the right sub-tree\n",
    "    right_height = check_height(root.right)\n",
    "    if right_height == min_int:\n",
    "        return min_int\n",
    "    # Calculate the height difference. If it's more than one, return min_int (the error code). Else, return the height of the balanced sub-tree + 1\n",
    "    height_diff = left_height - right_height\n",
    "    if abs(height_diff) > 1:\n",
    "        return min_int\n",
    "    else:\n",
    "        return max(left_height, right_height) + 1\n",
    "\n",
    "def is_balanced(root):\n",
    "    return check_height(root) != (-sys.maxsize - 1)"
   ]
  },
  {
   "cell_type": "markdown",
   "metadata": {},
   "source": [
    "#### 4.5 Validate BST\n",
    "Implement a function to check if a binary tree is a binary search tree."
   ]
  },
  {
   "cell_type": "code",
   "execution_count": 10,
   "metadata": {},
   "outputs": [],
   "source": [
    "# A binary tree is a binary search tree if the left child is lower than the parent node which is lower than the right node (pre-order traversal)\n",
    "def validate_bst(root):\n",
    "    to_visit = [root]\n",
    "    while len(to_visit) > 0:\n",
    "        node = to_visit.pop(0)\n",
    "        if node.left.data is not None:\n",
    "            if node.data <= node.left.data:\n",
    "                return False\n",
    "            else:\n",
    "                to_visit.append(node.left)\n",
    "        if node.right.data is not None:\n",
    "            if node.data > node.right.data:\n",
    "                return False\n",
    "            to_visit.append(node.right)\n",
    "    return True"
   ]
  },
  {
   "cell_type": "code",
   "execution_count": 11,
   "metadata": {},
   "outputs": [],
   "source": [
    "# The above method only works for checking the node and it's children, without checking against the values in the rest of the tree. Below corrects for that.\n",
    "def val_bst(root):\n",
    "    # Call the recursive function\n",
    "    return validate_helper(root, None, None)\n",
    "\n",
    "def validate_helper(node, mini, maxi):\n",
    "    # Return True if the node is None\n",
    "    if node is None:\n",
    "        return True\n",
    "    # A given node cannot be greater than the recorded maximum, or less than the recorded minimum\n",
    "    # If the minimum has been set and the node is less than or equal to the minimum, return False.\n",
    "    # If the maximum has been set and the node is greater than or equal to the maximum, return False\n",
    "    if (mini is not None and node.data <= mini) or (maxi is not None and node.data > maxi):\n",
    "        return False\n",
    "    # If either sub-tree is False, return False\n",
    "    if (not validate_helper(node.left, mini, node.data)) or (not validate_helper(node.right, node.data, maxi)):\n",
    "        return False\n",
    "    return True"
   ]
  },
  {
   "cell_type": "markdown",
   "metadata": {},
   "source": [
    "#### 4.6 Successor\n",
    "Write an algorithm to find the \"next\" node (i.e., in-order successor) of a given node in a binary search tree. You may assume that each node has a link to its parent."
   ]
  },
  {
   "cell_type": "code",
   "execution_count": 12,
   "metadata": {},
   "outputs": [],
   "source": [
    "def successor(node):\n",
    "    if node is None:\n",
    "        return None\n",
    "    # If the node has a right sub-tree, return the leftmost node in that sub-tree\n",
    "    if node.right is not None:\n",
    "        return leftmost(node.right)\n",
    "    else:\n",
    "        q = node\n",
    "        # Find node's parent\n",
    "        x = q.parent # Not implemented in my Node class, but an assumption from the question\n",
    "        # Iterate until node is not the left child of its parent (left -> current -> right)\n",
    "        while x is not None and x.left != q:\n",
    "            q = x\n",
    "            x = x.parent\n",
    "        return x\n",
    "\n",
    "def leftmost(node):\n",
    "    if node is None:\n",
    "        return None\n",
    "    while node.left is not None:\n",
    "        node = node.left\n",
    "    return node"
   ]
  },
  {
   "cell_type": "markdown",
   "metadata": {},
   "source": [
    "#### 4.7 Build Order\n",
    "You are given a list of projects and a list of dependencies (which is a list of pairs of projects, where the second project is dependent on the first project). All of a project'sdependencies must be built before the project is. Find a build order that will allow the projects to be built. If there is no valid build order, return an error."
   ]
  },
  {
   "cell_type": "code",
   "execution_count": 18,
   "metadata": {},
   "outputs": [],
   "source": [
    "# Topological sort using DFS\n",
    "\n",
    "# Store the possible states of nodes\n",
    "class State():\n",
    "    BLANK = 0\n",
    "    PARTIAL = 1\n",
    "    COMPLETED = 2\n",
    "\n",
    "# Create a class to store each vertex\n",
    "class Vertex():\n",
    "    # Store the vertex's data, state and adjacent vertices\n",
    "    def __init__(self, key):\n",
    "        self.id = key\n",
    "        self.adj = set()\n",
    "        self.state = State.BLANK\n",
    "    # Add an edge if it does not already exist\n",
    "    def add_edge(self, proj):\n",
    "        self.adj.add(proj)\n",
    "    def get_edges(self):\n",
    "        return self.adj\n",
    "    def get_id(self):\n",
    "        return self.id\n",
    "    def set_state(self, state):\n",
    "        self.state = state\n",
    "    def get_state(self):\n",
    "        return self.state\n",
    "\n",
    "# Create a class to store the entire graph\n",
    "class Graph():\n",
    "    # Store a dict of vertices and the number of them\n",
    "    def __init__(self):\n",
    "        self.vertices = dict() # key = id, value = vertex\n",
    "        self.num = 0\n",
    "    # Add vertices by using the dictionary to map from the id to the Vertex object\n",
    "    def add_vertex(self, key):\n",
    "        self.num += 1\n",
    "        self.vertices[key] = Vertex(key)\n",
    "    # Retrieve vertices by their keys\n",
    "    def get_vertex(self, key):\n",
    "        if key in self.vertices:\n",
    "            return self.vertices[key]\n",
    "        else:\n",
    "            return None\n",
    "    def __contains__(self, data):\n",
    "        return data in self.vertices\n",
    "    # Add an edge to the vertices list if it doesn't exist there\n",
    "    def add_edge(self, end1, end2):\n",
    "        if end1 not in self.vertices:\n",
    "            self.add_vertex(end1)\n",
    "        if end2 not in self.vertices:\n",
    "            self.add_vertex(end2)\n",
    "        # Connect the first end to the second end\n",
    "        self.vertices[end1].add_edge(self.vertices[end2])\n",
    "    def get_vertices(self):\n",
    "        return self.vertices.keys()\n",
    "    # Create an iterable for the graph\n",
    "    def __iter__(self):\n",
    "        return iter(self.vertices.values())\n",
    "    # Reset all the states to BLANK\n",
    "    def reset_states(self):\n",
    "        for proj in iter(self):\n",
    "            proj.set_state(State.BLANK)\n",
    "    \n",
    "def populate_result(graph):\n",
    "    result = []\n",
    "    for proj in iter(graph):\n",
    "        if not dfs(result, proj):\n",
    "            return None\n",
    "    return result\n",
    "\n",
    "# Recursive DFS\n",
    "def dfs(result, proj):\n",
    "    if proj.get_state() == State.PARTIAL:\n",
    "        return False\n",
    "    # If the state of the current project is BLANK, visit\n",
    "    if proj.get_state() == State.BLANK:\n",
    "        proj.set_state(State.PARTIAL)\n",
    "        # For every vertex in proj's adjacency list, perform DFS\n",
    "        for adj in proj.get_edges():\n",
    "            if not dfs(result, adj):\n",
    "                return False\n",
    "        proj.set_state(State.COMPLETED)\n",
    "        # Insert the project id to the result list\n",
    "        result.insert(0, proj.get_id())\n",
    "    return True\n",
    "\n",
    "def build_order(projects, dependencies):\n",
    "    graph = Graph()\n",
    "    for proj in projects:\n",
    "        graph.add_vertex(proj)\n",
    "    for to, fro in dependencies:\n",
    "        graph.add_edge(fro, to)\n",
    "    return populate_result(graph)"
   ]
  },
  {
   "cell_type": "code",
   "execution_count": 19,
   "metadata": {},
   "outputs": [
    {
     "name": "stdout",
     "output_type": "stream",
     "text": [
      "['f', 'e', 'b', 'a', 'd', 'c']\n"
     ]
    }
   ],
   "source": [
    "projects = [ \"a\", \"b\", \"c\", \"d\", \"e\", \"f\" ]\n",
    "dependencies = [ (\"d\", \"a\"), (\"b\", \"f\"), (\"d\", \"b\"), (\"a\", \"f\"), (\"c\", \"d\") ]\n",
    "print(build_order(projects, dependencies))"
   ]
  },
  {
   "cell_type": "markdown",
   "metadata": {},
   "source": [
    "#### 4.8 First Common Ancestor\n",
    "Design an algorithm and write code to find the first common ancestor of two nodes in a binary tree. Avoid storing additional nodes in a data structure. NOTE: This is not necessarily a binary search tree."
   ]
  },
  {
   "cell_type": "code",
   "execution_count": 20,
   "metadata": {},
   "outputs": [],
   "source": [
    "def common_ancestor(root, node1, node2):\n",
    "    # Check if both nodes are in the tree\n",
    "    if (not covers(root, node1)) or (not covers(root, node2)):\n",
    "        return None\n",
    "    return ancestor_helper(root, node1, node2)\n",
    "\n",
    "def ancestor_helper(root, node1, node2):\n",
    "    if root is None or root == node1 or root == node2:\n",
    "        return root\n",
    "    node1_on_left = covers(root.left, node1)\n",
    "    node2_on_left = covers(root.left, node2)\n",
    "    # Check if nodes are on the same side\n",
    "    if not (node1_on_left and node2_on_left):\n",
    "        return root\n",
    "    # Find the sub-tree of the child_node\n",
    "    child_side = root.left if node1_on_left else root.right\n",
    "    return ancestor_helper(child_side, node1, node2)\n",
    "\n",
    "# The tree covers the node if the node is somewhere in the stree's sub-trees\n",
    "def covers(root, node1):\n",
    "    if root is None:\n",
    "        return False\n",
    "    if root == node1:\n",
    "        return True\n",
    "    return covers(root.left, node1) or covers(root.right, node2)"
   ]
  },
  {
   "cell_type": "markdown",
   "metadata": {},
   "source": [
    "#### 4.9 BST Sequences\n",
    "A binary search tree was created by traversing through an array from left to right and inserting each element. Given a binary search tree with distinct elements, print all possible arrays that could have led to this tree."
   ]
  },
  {
   "cell_type": "code",
   "execution_count": 21,
   "metadata": {},
   "outputs": [],
   "source": [
    "def bst_sequences(root):\n",
    "    result = []\n",
    "    if root is None:\n",
    "        result.append([])\n",
    "        return result\n",
    "    prefix = []\n",
    "    prefix.append(root.data)\n",
    "    # Recurse on the left and right sub-trees\n",
    "    left_seq = bst_sequences(root.left)\n",
    "    right_seq = bst_sequences(root.right)\n",
    "    # Weave together the lists\n",
    "    for left in left_seq:\n",
    "        for right in right_seq:\n",
    "            weaved = []\n",
    "            weave_lists(left, right, weaved, prefix)\n",
    "            result.extend(weaved)\n",
    "    return result\n",
    "\n",
    "def weave_lists(first, second, results, prefix):\n",
    "    if len(first) == 0 or len(second) == 0:\n",
    "        result = prefix.copy()\n",
    "        result.extend(first)\n",
    "        result.extend(second)\n",
    "        results.append(result)\n",
    "        return\n",
    "    head_first = first.pop(0)\n",
    "    prefix.append(head_first)\n",
    "    weave_lists(first, second, results, prefix)\n",
    "    prefix.pop()\n",
    "    first.insert(0, head_first)\n",
    "    \n",
    "    head_second = second.pop()\n",
    "    prefix.append(head_second)\n",
    "    weave_lists(first, second, results, prefix)\n",
    "    prefix.pop()\n",
    "    second.insert(0, head_second)"
   ]
  },
  {
   "cell_type": "markdown",
   "metadata": {},
   "source": [
    "#### 4.10 Check Subtree\n",
    "T1 and T2 are two very large binary trees, with T1 much bigger than T2. Create an algorithm to determine if T2 is a subtree of T1.\n",
    "A tree T2 is a subtree of T1 if there exists a node n in T1 such that the subtree of n is identical to T2.\n",
    "That is, if you cut off the tree at node n, the two trees would be identical."
   ]
  },
  {
   "cell_type": "code",
   "execution_count": 23,
   "metadata": {},
   "outputs": [],
   "source": [
    "# The following approach converts the trees to strings based on pre-order traversal (node -> left -> right). If one string is a sub-string of the other, it is a sub-tree\n",
    "def contains_tree(node1, node2):\n",
    "    string1 = \"\"\n",
    "    string2 = \"\"\n",
    "    get_order(node1, string1)\n",
    "    get_order(node2, string2)\n",
    "    return string2 in string1\n",
    "\n",
    "def get_order(node, string):\n",
    "    if node is None:\n",
    "        # Add a null indicator\n",
    "        string += \"X\"\n",
    "        return\n",
    "    string += (node.data + \" \") # Add the root\n",
    "    # Add left and right\n",
    "    get_order(node.left, string)\n",
    "    get_order(node.right, string)"
   ]
  },
  {
   "cell_type": "markdown",
   "metadata": {},
   "source": [
    "#### 4.11 Random Node\n",
    "You are implementing a binary tree class from scratch which, in addition to insert, find, and delete, has a method getRandomNode() which returns a random node from the tree. All nodes should be equally likely to be chosen. Design and implement an algorithm for getRandomNode, and explain how you would implement the rest of the methods."
   ]
  },
  {
   "cell_type": "code",
   "execution_count": 24,
   "metadata": {},
   "outputs": [],
   "source": [
    "import random"
   ]
  },
  {
   "cell_type": "code",
   "execution_count": 25,
   "metadata": {},
   "outputs": [],
   "source": [
    "# Create a tree class that stores the size of the tree\n",
    "class Tree():\n",
    "    def __init__(self, root=None):\n",
    "        self.root = root\n",
    "        self.size = 0 if self.root is None else self.root.size()\n",
    "        \n",
    "    def get_random():\n",
    "        if root is None:\n",
    "            return None\n",
    "        # The index is a random number between 0 and the size of the tree\n",
    "        index = random.randint(0, self.size())\n",
    "        return root.get_node(index)\n",
    "    \n",
    "    # Insert a value into the tree\n",
    "    def insert_in_order(value):\n",
    "        if root is None:\n",
    "            root = RandomNode(value)\n",
    "        else:\n",
    "            root.insert_in_order(value)\n",
    "\n",
    "# A class for each node of the tree. Stores data, left, right, and the size\n",
    "class RandomNode():\n",
    "    def __init__(self, data=None):\n",
    "        self.data = data\n",
    "        self.left = None\n",
    "        self.right = None\n",
    "        self.size = 0\n",
    "    \n",
    "    # Increment the size of the left until the index\n",
    "    def get_node(index):\n",
    "        left_size = 0 if self.left is None else self.left.size()\n",
    "        if index < self.left_size:\n",
    "            return self.left.get_node(index)\n",
    "        elif index == self.left_size:\n",
    "            return self\n",
    "        else:\n",
    "            return self.right.get_node(index - (left_size + 1))\n",
    "    \n",
    "    def insert_in_order(value):\n",
    "        if value <= self.data:\n",
    "            if self.left is None:\n",
    "                self.left = RandomNode(value)\n",
    "            else:\n",
    "                self.left.insert_in_order(value)\n",
    "        else:\n",
    "            if self.right is None:\n",
    "                self.right = RandomNode(value)\n",
    "            else:\n",
    "                self.right.insert_in_order(value)\n",
    "        self.size += 1\n",
    "    \n",
    "    def size():\n",
    "        return self.size\n",
    "    \n",
    "    def find(value):\n",
    "        if value == self.data:\n",
    "            return self\n",
    "        elif value <= self.data:\n",
    "            return self.left.find(value) if self.left is not None else None\n",
    "        elif value > self.data:\n",
    "            return self.right.find(value) if self.right is not None else None\n",
    "        return None"
   ]
  },
  {
   "cell_type": "markdown",
   "metadata": {},
   "source": [
    "#### 4.12 Paths with Sum\n",
    "You are given a binary tree in which each node contains an integer value (which might be positive or negative). Design an algorithm to count the number of paths that sum to a given value. The path does not need to start or end at the root or a leaf, but it must go downwards (traveling only from parent nodes to child nodes)."
   ]
  },
  {
   "cell_type": "code",
   "execution_count": 26,
   "metadata": {},
   "outputs": [],
   "source": [
    "def count_sum_paths(node, target_sum, running_sum, path_count):\n",
    "    if node is None:\n",
    "        return 0\n",
    "    running_sum += node.data\n",
    "    cur_sum = running_sum - target_sum\n",
    "    if cur_sum in path_count:\n",
    "        total_paths = path_count[cur_sum]\n",
    "    else:\n",
    "        total_paths = 0\n",
    "    if running_sum == target_sum:\n",
    "        total_paths += 1\n",
    "    increment_hash(path_count, running_sum, 1)\n",
    "    total_paths += count_sum_paths(node.left, target_sum, running_sum, path_count)\n",
    "    total_paths += count_sum_paths(node.right, target_sum, running_sum, path_count)\n",
    "    increment_hash(path_count, running_sum, -1)\n",
    "    return total_paths\n",
    "\n",
    "def increment_hash(path_count, key, delta):\n",
    "    new_count = (key + delta) if key in path_count else (0 + delta)\n",
    "    if new_count == 0:\n",
    "        del path_count[key]\n",
    "    else:\n",
    "        path_count[key] = new_count"
   ]
  },
  {
   "cell_type": "code",
   "execution_count": null,
   "metadata": {},
   "outputs": [],
   "source": []
  }
 ],
 "metadata": {
  "kernelspec": {
   "display_name": "Python 3",
   "language": "python",
   "name": "python3"
  },
  "language_info": {
   "codemirror_mode": {
    "name": "ipython",
    "version": 3
   },
   "file_extension": ".py",
   "mimetype": "text/x-python",
   "name": "python",
   "nbconvert_exporter": "python",
   "pygments_lexer": "ipython3",
   "version": "3.6.0"
  }
 },
 "nbformat": 4,
 "nbformat_minor": 2
}
