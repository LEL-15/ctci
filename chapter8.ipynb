{
 "cells": [
  {
   "cell_type": "markdown",
   "metadata": {
    "slideshow": {
     "slide_type": "-"
    }
   },
   "source": [
    "## Chapter 8: Recursion and Dynamic Programming"
   ]
  },
  {
   "cell_type": "markdown",
   "metadata": {},
   "source": [
    "#### 8.1 Triple Step\n",
    "A child is running up a staircase with n steps and can hop either 1 step, 2 steps, or 3 steps at a time. Implement a method to count how many possible ways the child can run up the stairs."
   ]
  },
  {
   "cell_type": "code",
   "execution_count": 1,
   "metadata": {},
   "outputs": [],
   "source": [
    "def count_stepways(n, memo):\n",
    "    if n < 0:\n",
    "        return 0\n",
    "    elif n == 0:\n",
    "        return 1\n",
    "    elif memo[n] > -1:\n",
    "        return memo[n]\n",
    "    else:\n",
    "        memo[n] = count_stepways(n - 1, memo) + count_stepways(n - 2, memo) + count_stepways(n - 3, memo)\n",
    "        return memo[n]"
   ]
  },
  {
   "cell_type": "markdown",
   "metadata": {},
   "source": [
    "#### 8.2 Robot in a Grid\n",
    "Imagine a robot sitting on the upper left corner of grid with r rows and c columns. The robot can only move in two directions, right and down, but certain cells are \"off limits\" such that the robot cannot step on them. Design an algorithm to find a path for the robot from the top left to the bottom right."
   ]
  },
  {
   "cell_type": "code",
   "execution_count": 2,
   "metadata": {},
   "outputs": [],
   "source": [
    "def robo_path(grid):\n",
    "    if grid is None or len(grid) == 0:\n",
    "        return None\n",
    "    path = []\n",
    "    visited = set()\n",
    "    if path_helper(grid, len(grid) - 1, len(grid[0]) - 1, path, visited):\n",
    "        return path\n",
    "    return None\n",
    "\n",
    "def path_helper(grid, row, col, path, visited):\n",
    "    # Check if out of bounds or off-limits\n",
    "    if (col < 0) or (row < 0) or (not maze[row][col]):\n",
    "        return False\n",
    "    point = (row, col)\n",
    "    if point in visited:\n",
    "        return False\n",
    "    at_origin = (row == 0) and (col == 0)\n",
    "    # Add current location if there is a path from the start to this location\n",
    "    if at_origin or path_helper(grid, row, col - 1, path, visited) or path_helper(grid, row - 1, col, path, visited):\n",
    "        path.add(point)\n",
    "        return True\n",
    "    # Cache result\n",
    "    visited.add(point)\n",
    "    return False"
   ]
  },
  {
   "cell_type": "markdown",
   "metadata": {},
   "source": [
    "#### 8.3 Magic Index\n",
    "A magic index in an array A[0...n-1] is defined to be an index such that A[i] = i. Given a sorted array of distinct integers, write a method to find a magic index, if one exists, in array A.\n",
    "\n",
    "FOLLOW UP\n",
    "\n",
    "What if the values are not distinct?"
   ]
  },
  {
   "cell_type": "code",
   "execution_count": 4,
   "metadata": {},
   "outputs": [],
   "source": [
    "def magic_index(array):\n",
    "    return magic_helper(array, 0, len(array) - 1)\n",
    "\n",
    "def magic_helper(array, start, end):\n",
    "    if end < start:\n",
    "        return -1\n",
    "    mid_index = (start + end) // 2\n",
    "    mid_value = array[mid_index]\n",
    "    if mid_value == mid_index:\n",
    "        return mid_index\n",
    "    \n",
    "    # Search left\n",
    "    left_index = min(mid_index - 1, mid_value)\n",
    "    left = magic_helper(array, start, left_index)\n",
    "    if left >= 0:\n",
    "        return left\n",
    "    \n",
    "    # Search right\n",
    "    right_index = max(mid_index + 1, mid_value)\n",
    "    right = magic_helper(array, right_index, end)\n",
    "    return right"
   ]
  },
  {
   "cell_type": "markdown",
   "metadata": {},
   "source": [
    "#### 8.4 Power Set\n",
    "Write a method to return all subsets of a set."
   ]
  },
  {
   "cell_type": "code",
   "execution_count": 5,
   "metadata": {},
   "outputs": [],
   "source": [
    "def powerset(my_set, index):\n",
    "    all_subsets = []\n",
    "    if len(my_set) == index:\n",
    "        all_subsets.append([])\n",
    "    else:\n",
    "        all_subsets = powerset(my_set, index + 1)\n",
    "        item = my_set[index]\n",
    "        more_subsets = []\n",
    "        for subset in all_subsets:\n",
    "            new_subset = []\n",
    "            new_subset.extend(subset)\n",
    "            new_subset.append(item)\n",
    "            more_subsets.append(new_subset)\n",
    "        all_subsets.extend(more_subsets)\n",
    "    return all_subsets"
   ]
  },
  {
   "cell_type": "code",
   "execution_count": 7,
   "metadata": {},
   "outputs": [
    {
     "name": "stdout",
     "output_type": "stream",
     "text": [
      "[[], [5], [4], [5, 4], [3], [5, 3], [4, 3], [5, 4, 3]]\n"
     ]
    }
   ],
   "source": [
    "print(powerset([3,4,5], 0))"
   ]
  },
  {
   "cell_type": "markdown",
   "metadata": {},
   "source": [
    "#### 8.5 Recursive Multiply\n",
    "Write a recursive function to multiply two positive integers without using the * operator. You can use addition, subtraction, and bit shifting, but you should minimize the number of those operations."
   ]
  },
  {
   "cell_type": "code",
   "execution_count": 9,
   "metadata": {},
   "outputs": [],
   "source": [
    "def multiply(num1, num2):\n",
    "    if num2 == 0:\n",
    "        return 0\n",
    "    return num1 + multiply(num1, num2 - 1)"
   ]
  },
  {
   "cell_type": "code",
   "execution_count": 16,
   "metadata": {},
   "outputs": [
    {
     "data": {
      "text/plain": [
       "6"
      ]
     },
     "execution_count": 16,
     "metadata": {},
     "output_type": "execute_result"
    }
   ],
   "source": [
    "multiply(2, 3)"
   ]
  },
  {
   "cell_type": "code",
   "execution_count": 19,
   "metadata": {},
   "outputs": [],
   "source": [
    "def fast_multiply(num1, num2):\n",
    "    bigger = num1 if num1 >= num2 else num2\n",
    "    smaller = num1 if num1 < num2 else num2\n",
    "    return multi_helper(smaller, bigger)\n",
    "\n",
    "def multi_helper(smaller, bigger):\n",
    "    if smaller == 0:\n",
    "        return 0\n",
    "    elif smaller == 1:\n",
    "        return bigger\n",
    "    half = smaller >> 1\n",
    "    half_product = multi_helper(half, bigger)\n",
    "    \n",
    "    if (smaller % 2 == 0):\n",
    "        return half_product + half_product\n",
    "    else:\n",
    "        return half_product + half_product + bigger"
   ]
  },
  {
   "cell_type": "code",
   "execution_count": 20,
   "metadata": {},
   "outputs": [
    {
     "data": {
      "text/plain": [
       "6"
      ]
     },
     "execution_count": 20,
     "metadata": {},
     "output_type": "execute_result"
    }
   ],
   "source": [
    "fast_multiply(2, 3)"
   ]
  },
  {
   "cell_type": "code",
   "execution_count": 21,
   "metadata": {},
   "outputs": [],
   "source": [
    "import timeit"
   ]
  },
  {
   "cell_type": "code",
   "execution_count": 30,
   "metadata": {},
   "outputs": [
    {
     "data": {
      "text/plain": [
       "0.031163505977019668"
      ]
     },
     "execution_count": 30,
     "metadata": {},
     "output_type": "execute_result"
    }
   ],
   "source": [
    "timeit.timeit(\"fast_multiply(200, 300)\", setup=\"from __main__ import fast_multiply\",number=10000)"
   ]
  },
  {
   "cell_type": "code",
   "execution_count": 31,
   "metadata": {},
   "outputs": [
    {
     "data": {
      "text/plain": [
       "0.5426998919574544"
      ]
     },
     "execution_count": 31,
     "metadata": {},
     "output_type": "execute_result"
    }
   ],
   "source": [
    "timeit.timeit(\"multiply(200, 300)\", setup=\"from __main__ import multiply\",number=10000)"
   ]
  },
  {
   "cell_type": "markdown",
   "metadata": {},
   "source": [
    "#### 8.6 Towers of Hanoi\n",
    "In the classic problem of the Towers of Hanoi, you have 3 towers and N disks of different sizes which can slide onto any tower. The puzzle starts with disks sorted in ascending order of size from top to bottom (Le., each disk sits on top of an even larger one). You have the following constraints:\n",
    "\n",
    "(1) Only one disk can be moved at a time.\n",
    "\n",
    "(2) A disk is slid off the top of one tower onto another tower.\n",
    "\n",
    "(3) A disk cannot be placed on top of a smaller disk.\n",
    "\n",
    "Write a program to move the disks from the first tower to the last using stacks."
   ]
  },
  {
   "cell_type": "code",
   "execution_count": 33,
   "metadata": {},
   "outputs": [],
   "source": [
    "class Stack():\n",
    "    def __init__(self):\n",
    "        self.data = []\n",
    "    def push(item):\n",
    "        self.data.append(item)\n",
    "    def pop():\n",
    "        return self.data.pop()\n",
    "    def peek():\n",
    "        return self.data[-1]\n",
    "    def is_empty():\n",
    "        return len(self.data) == 0\n",
    "\n",
    "class Tower():\n",
    "    def __init__(self, index):\n",
    "        self.disks = Stack()\n",
    "        self.index = index\n",
    "    def index():\n",
    "        return self.index\n",
    "    def add(disk):\n",
    "        if (not self.disks.is_empty()) and self.disks.peek() <= disk:\n",
    "            print(\"Error placing disk.\")\n",
    "        else:\n",
    "            self.disks.push(disk)\n",
    "    def move_top_to(tower):\n",
    "        top = self.disks.pop()\n",
    "        tower.add(top)\n",
    "    def move_disks(n, destination, buffer):\n",
    "        if n > 0:\n",
    "            move_disks(n - 1, buffer, destination)\n",
    "            move_top_to(destination)\n",
    "            buffer.move_disks(n - 1, destination, self)\n",
    "\n",
    "def hanoi(n=3):\n",
    "    towers = []\n",
    "    for i in range(n):\n",
    "        towers.append(Tower(i))\n",
    "    index = n - 1\n",
    "    while index >= 0:\n",
    "        towers[0].add(index)\n",
    "        index -= 1\n",
    "    towers[0].move_disks(n, towers[2], towers[1])"
   ]
  },
  {
   "cell_type": "markdown",
   "metadata": {},
   "source": [
    "#### 8.7 Permuatations without Dups\n",
    "Write a method to compute all permutations of a string of unique characters."
   ]
  },
  {
   "cell_type": "code",
   "execution_count": 52,
   "metadata": {},
   "outputs": [],
   "source": [
    "def get_perms(string):\n",
    "    result = []\n",
    "    perms_helper(\"\", string, result)\n",
    "    return result\n",
    "\n",
    "def perms_helper(prefix, remainder, result):\n",
    "    length = len(remainder)\n",
    "    if length == 0:\n",
    "        result.append(prefix)\n",
    "    for i in range(length):\n",
    "        before = remainder[0:i]\n",
    "        after = remainder[i + 1: length]\n",
    "        c = remainder[i]\n",
    "        perms_helper(prefix + c, before + after, result)"
   ]
  },
  {
   "cell_type": "code",
   "execution_count": 53,
   "metadata": {},
   "outputs": [],
   "source": [
    "test = \"Hakeem\""
   ]
  },
  {
   "cell_type": "code",
   "execution_count": 57,
   "metadata": {},
   "outputs": [
    {
     "data": {
      "text/plain": [
       "['tea', 'tae', 'eta', 'eat', 'ate', 'aet']"
      ]
     },
     "execution_count": 57,
     "metadata": {},
     "output_type": "execute_result"
    }
   ],
   "source": [
    "get_perms(\"tea\")"
   ]
  },
  {
   "cell_type": "markdown",
   "metadata": {},
   "source": [
    "#### 8.8 Permutations with Dups\n",
    "Write a method to compute all permutations of a string whose characters are not necessarily unique. The list of permutations should not have duplicates."
   ]
  },
  {
   "cell_type": "code",
   "execution_count": 60,
   "metadata": {},
   "outputs": [],
   "source": [
    "def dup_perms(string):\n",
    "    result = []\n",
    "    freq_map = build_freq(string)\n",
    "    perms_helper(freq_map, \"\", len(string), result)\n",
    "    return result\n",
    "\n",
    "def build_freq(string):\n",
    "    freq_hash = dict()\n",
    "    for char in string:\n",
    "        if char not in freq_hash:\n",
    "            freq_hash[char] = 0\n",
    "        freq_hash[char] += 1\n",
    "    return freq_hash\n",
    "\n",
    "def perms_helper(freq_map, prefix, remaining, result):\n",
    "    if remaining == 0:\n",
    "        result.add(prefix)\n",
    "        return\n",
    "    for char in freq_hash:\n",
    "        count = freq_hash[c]\n",
    "        if count > 0:\n",
    "            freq_hash[char] = count - 1\n",
    "            perms_helper(freq_hash, prefix + char, remaining - 1, result)\n",
    "            freq_hash[char] = count"
   ]
  },
  {
   "cell_type": "markdown",
   "metadata": {},
   "source": [
    "#### 8.9 Parens\n",
    "Implement an algorithm to print all valid (e.g., properly opened and closed) combinations of n pairs of parentheses."
   ]
  },
  {
   "cell_type": "code",
   "execution_count": 75,
   "metadata": {},
   "outputs": [],
   "source": [
    "def parens(n):\n",
    "    # Initialize variables to hold each combination and the result\n",
    "    combo = [None] * n * 2\n",
    "    result = []\n",
    "    add_paren(result, n, n, combo, 0)\n",
    "    return result\n",
    "\n",
    "def add_paren(result, left_remaining, right_remaining, combo, index):\n",
    "    # Bounds\n",
    "    if left_remaining < 0 or right_remaining < left_remaining:\n",
    "        return\n",
    "    # Check if left_remaining and right_remaining are 0. If so, append the result\n",
    "    if left_remaining == 0 and right_remaining == 0:\n",
    "        result.append(''.join(combo))\n",
    "    else:\n",
    "        # Add parentheses at the index, then recurse\n",
    "        combo[index] = '('\n",
    "        add_paren(result, left_remaining - 1, right_remaining, combo, index + 1)\n",
    "        combo[index] = ')'\n",
    "        add_paren(result, left_remaining, right_remaining - 1, combo, index + 1)"
   ]
  },
  {
   "cell_type": "code",
   "execution_count": 76,
   "metadata": {},
   "outputs": [
    {
     "data": {
      "text/plain": [
       "['((()))', '(()())', '(())()', '()(())', '()()()']"
      ]
     },
     "execution_count": 76,
     "metadata": {},
     "output_type": "execute_result"
    }
   ],
   "source": [
    "parens(3)"
   ]
  },
  {
   "cell_type": "code",
   "execution_count": null,
   "metadata": {},
   "outputs": [],
   "source": []
  }
 ],
 "metadata": {
  "kernelspec": {
   "display_name": "Python 3",
   "language": "python",
   "name": "python3"
  },
  "language_info": {
   "codemirror_mode": {
    "name": "ipython",
    "version": 3
   },
   "file_extension": ".py",
   "mimetype": "text/x-python",
   "name": "python",
   "nbconvert_exporter": "python",
   "pygments_lexer": "ipython3",
   "version": "3.6.0"
  }
 },
 "nbformat": 4,
 "nbformat_minor": 2
}
