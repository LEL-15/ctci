{
 "cells": [
  {
   "cell_type": "markdown",
   "metadata": {},
   "source": [
    "## Chapter 1: Arrays and Strings"
   ]
  },
  {
   "cell_type": "markdown",
   "metadata": {},
   "source": [
    "#### 1.1: Is Unique\n",
    "\n",
    "Implement an algorithm to determine if a string has all unique characters. What if you cannot use additional data structures?"
   ]
  },
  {
   "cell_type": "code",
   "execution_count": 9,
   "metadata": {},
   "outputs": [],
   "source": [
    "# Uses a hash table to store the characters of the string, then checks the hash table to see if a character has already been seen. \n",
    "# Takes O(N) time.\n",
    "def is_unique(string):\n",
    "    htable = dict()\n",
    "    for char in string:\n",
    "        if char in htable:\n",
    "            return False\n",
    "        else:\n",
    "            htable[char] = 'present'\n",
    "    return True"
   ]
  },
  {
   "cell_type": "markdown",
   "metadata": {},
   "source": [
    "#### 1.2 Check Permutation\n",
    "Given two strings, write a method to decide if one is a permutation of the other."
   ]
  },
  {
   "cell_type": "code",
   "execution_count": 19,
   "metadata": {},
   "outputs": [],
   "source": [
    "# Store the two strings in a hash table, based on the frequency of their constituent characters, then compare the hash tables.\n",
    "# Takes O(N) time.\n",
    "def perm_check(s1, s2):\n",
    "    if len(s1) != len(s2):\n",
    "        return False\n",
    "    return populate(s1) == populate(s2)\n",
    "\n",
    "def populate(string):\n",
    "    htable = {}\n",
    "    for char in string:\n",
    "        if char in htable:\n",
    "            htable[char] += 1\n",
    "        else:\n",
    "            htable[char] = 1\n",
    "    return htable"
   ]
  },
  {
   "cell_type": "markdown",
   "metadata": {},
   "source": [
    "#### 1.3 URLify\n",
    "Write a method to replace all spaces in a string with '%20'. You may assume that the string has sufficient space at the end to hold the additional characters, and that you are given the \"true\" length of the string."
   ]
  },
  {
   "cell_type": "code",
   "execution_count": 48,
   "metadata": {},
   "outputs": [],
   "source": [
    "# Creates a new string that fills in characters based on the instructions, after stripping off white space.\n",
    "def urlify(string, true_length):\n",
    "    urld = \"\"\n",
    "    strip = len(string) - true_length\n",
    "    string = string[:-strip]\n",
    "    for char in string:\n",
    "        if char == \" \":\n",
    "            urld += \"%20\"\n",
    "        else:\n",
    "            urld += char\n",
    "    return urld"
   ]
  },
  {
   "cell_type": "code",
   "execution_count": 47,
   "metadata": {},
   "outputs": [
    {
     "data": {
      "text/plain": [
       "'Mr%20John%20Smith'"
      ]
     },
     "execution_count": 47,
     "metadata": {},
     "output_type": "execute_result"
    }
   ],
   "source": [
    "urlify(\"Mr John Smith    \", 13)"
   ]
  },
  {
   "cell_type": "markdown",
   "metadata": {},
   "source": [
    "#### 1.4 Palindrome Permutation\n",
    "Given a string, write a function to check if it is a permutation of a palindrome. A palindrome is a word or phrase that is the same forwards and backwards. A permutation is a rearrangement of letters. The palindrome does not need to be limited to just dictionary words."
   ]
  },
  {
   "cell_type": "code",
   "execution_count": 60,
   "metadata": {},
   "outputs": [],
   "source": [
    "def palindrome(s):\n",
    "    htable = {}\n",
    "    odd_count = 0\n",
    "    # Add the characters to a frequency-based hash table. O(N)\n",
    "    for char in s:\n",
    "        if char != \" \":\n",
    "            if char in htable:\n",
    "                htable[char] += 1\n",
    "            else:\n",
    "                htable[char] = 1\n",
    "    # Check each character's frequency: if more than 1 have odd frequencies, palindromes are impossible. O(1)\n",
    "    for key, value in htable.items():\n",
    "        if value % 2 == 1:\n",
    "            odd_count += 1\n",
    "        if odd_count > 1:\n",
    "            return False\n",
    "    return True"
   ]
  },
  {
   "cell_type": "code",
   "execution_count": 64,
   "metadata": {},
   "outputs": [
    {
     "data": {
      "text/plain": [
       "True"
      ]
     },
     "execution_count": 64,
     "metadata": {},
     "output_type": "execute_result"
    }
   ],
   "source": [
    "palindrome('taco cat')"
   ]
  },
  {
   "cell_type": "markdown",
   "metadata": {},
   "source": [
    "#### 1.5 One Away\n",
    "There are three types of edits that can be performed on strings: insert a character, remove a character, or replace a character. Given two strings, write a function to check if they are one edit (or zero edits) away."
   ]
  },
  {
   "cell_type": "code",
   "execution_count": 104,
   "metadata": {},
   "outputs": [],
   "source": [
    "def one_away(s1, s2):\n",
    "    length1 = len(s1)\n",
    "    length2 = len(s2)\n",
    "    if length1 > length2:\n",
    "        longer = s1\n",
    "        shorter = s2\n",
    "    else:\n",
    "        longer = s2\n",
    "        shorter = s1\n",
    "    if abs(length1 - length2) == 1:\n",
    "        return one_insert(longer, shorter)\n",
    "    elif length1 == length2:\n",
    "        return one_replace(s1, s2)\n",
    "    else:\n",
    "        return False\n",
    "\n",
    "def one_insert(s1, s2):\n",
    "    index1 = 0\n",
    "    index2 = 0\n",
    "    while index1 < len(s1) and index2 < len(s2):\n",
    "        if s1[index1] != s2[index2]:\n",
    "            if index1 != index2:\n",
    "                return False\n",
    "            index1 += 1\n",
    "        else:\n",
    "            index1 += 1\n",
    "            index2 += 1\n",
    "    return True\n",
    "\n",
    "def one_replace(s1, s2):\n",
    "    num_edits = 0\n",
    "    for i in range(len(s1)):\n",
    "        if s1[i] != s2[i]:\n",
    "            num_edits += 1\n",
    "        if num_edits > 1:\n",
    "            return False\n",
    "    return True"
   ]
  },
  {
   "cell_type": "code",
   "execution_count": 107,
   "metadata": {},
   "outputs": [
    {
     "data": {
      "text/plain": [
       "True"
      ]
     },
     "execution_count": 107,
     "metadata": {},
     "output_type": "execute_result"
    }
   ],
   "source": [
    "one_away('pale','ple')"
   ]
  },
  {
   "cell_type": "markdown",
   "metadata": {},
   "source": [
    "#### 1.6 String Compression\n",
    "String Compression: Implement a method to perform basic string compression using the counts of repeated characters. For example, the string aabcccccaaa would become a2b1c5a3. If the \"compressed\" string would not become smaller than the original string, your method should return the original string. You can assume the string has only uppercase and lowercase letters (a - z)."
   ]
  },
  {
   "cell_type": "code",
   "execution_count": 164,
   "metadata": {},
   "outputs": [],
   "source": [
    "def compress(s):\n",
    "    final = \"\"\n",
    "    count = 1\n",
    "    # Go through the string and count the number of occurrences, restarting the count every time there is a new letter\n",
    "    for i in range(len(s)-1):\n",
    "        if s[i] == s[i+1] and i < len(s) - 2:\n",
    "            count += 1\n",
    "        elif i == len(s) - 2:\n",
    "            count += 1\n",
    "            final = final + s[i] + str(count)\n",
    "        else:\n",
    "            final = final + s[i] + str(count)\n",
    "            count = 1\n",
    "    return final"
   ]
  },
  {
   "cell_type": "code",
   "execution_count": 165,
   "metadata": {},
   "outputs": [
    {
     "data": {
      "text/plain": [
       "'a2b1c5a3'"
      ]
     },
     "execution_count": 165,
     "metadata": {},
     "output_type": "execute_result"
    }
   ],
   "source": [
    "compress('aabcccccaaa')"
   ]
  },
  {
   "cell_type": "markdown",
   "metadata": {},
   "source": [
    "#### 1.7 Rotate Matrix\n",
    "Given an image represented by an NxN matrix, where each pixel in the image is 4 bytes, write a method to rotate the image by 90 degrees. Can you do this in place?"
   ]
  },
  {
   "cell_type": "code",
   "execution_count": 181,
   "metadata": {},
   "outputs": [],
   "source": [
    "def rotate_matrix(image):\n",
    "    n = len(image)\n",
    "    if n == 0 or n != len(image[0]):\n",
    "        raise Exception('Non-square matrix.')\n",
    "    for layer in range(int(n / 2)):\n",
    "        first = layer\n",
    "        last = n - layer - 1\n",
    "        for i in range(first, last):\n",
    "            offset = i - first\n",
    "            # Save top\n",
    "            top = image[first][i]\n",
    "            \n",
    "            # Left -> top\n",
    "            image[first][i] = image[last - offset][first]\n",
    "            \n",
    "            # Bottom -> left\n",
    "            image[last - offset][first] = image[last][last - offset]\n",
    "            \n",
    "            # Right -> bottom\n",
    "            image[last][last - offset] = image[i][last]\n",
    "            \n",
    "            # Top -> right\n",
    "            image[i][last] = top\n",
    "    return image\n",
    "\n",
    "def print_matrix(image):\n",
    "    for layer in image:\n",
    "        print(layer)"
   ]
  },
  {
   "cell_type": "code",
   "execution_count": 194,
   "metadata": {},
   "outputs": [],
   "source": [
    "m = [[0,1,2],\n",
    "     [3,4,5],\n",
    "     [6,7,8]]"
   ]
  },
  {
   "cell_type": "code",
   "execution_count": 183,
   "metadata": {},
   "outputs": [
    {
     "name": "stdout",
     "output_type": "stream",
     "text": [
      "[0, 1, 2]\n",
      "[3, 4, 5]\n",
      "[6, 7, 8]\n"
     ]
    }
   ],
   "source": [
    "print_matrix(m)"
   ]
  },
  {
   "cell_type": "code",
   "execution_count": 184,
   "metadata": {},
   "outputs": [
    {
     "name": "stdout",
     "output_type": "stream",
     "text": [
      "[6, 3, 0]\n",
      "[7, 4, 1]\n",
      "[8, 5, 2]\n"
     ]
    }
   ],
   "source": [
    "print_matrix(rotate_matrix(m))"
   ]
  },
  {
   "cell_type": "markdown",
   "metadata": {},
   "source": [
    "#### 1.8 Zero Matrix\n",
    "Write an algorithm such that if an element in an MxN matrix is 0, its entire row and column are set to 0."
   ]
  },
  {
   "cell_type": "code",
   "execution_count": 220,
   "metadata": {},
   "outputs": [],
   "source": [
    "def zero_matrix(m):\n",
    "    num_cols = len(m[0])\n",
    "    num_rows = len(m)\n",
    "    zero_rows = []\n",
    "    zero_cols = []\n",
    "    for row in range(num_rows):\n",
    "        for col in range(num_cols):\n",
    "            if m[row][col] == 0:\n",
    "                zero_rows.append(row)\n",
    "                zero_cols.append(col)\n",
    "    for zrow in zero_rows:\n",
    "        i = 0\n",
    "        while i < num_cols:\n",
    "            m[zrow][i] = 0\n",
    "            i += 1\n",
    "    for zcol in zero_cols:\n",
    "        i = 0\n",
    "        while i < num_rows:\n",
    "            m[i][zcol] = 0\n",
    "            i += 1\n",
    "    return m"
   ]
  },
  {
   "cell_type": "code",
   "execution_count": 223,
   "metadata": {},
   "outputs": [
    {
     "name": "stdout",
     "output_type": "stream",
     "text": [
      "[0, 1, 2]\n",
      "[3, 4, 5]\n",
      "[6, 7, 8]\n",
      "\n",
      "[0, 0, 0]\n",
      "[0, 4, 5]\n",
      "[0, 7, 8]\n"
     ]
    }
   ],
   "source": [
    "m = [[0,1,2],\n",
    "     [3,4,5],\n",
    "     [6,7,8]]\n",
    "print_matrix(m)\n",
    "print()\n",
    "print_matrix(zero_matrix(m))"
   ]
  },
  {
   "cell_type": "markdown",
   "metadata": {},
   "source": [
    "#### 1.9 String Rotation\n",
    "Assume you have amethod isSubstring which checks if one word is asubstring of another. Given two strings, s1 and s2, write code to check if s2 is a rotation of s1 using only one call to isSubstring (e.g.,\"waterbottle\" is a rotation of \"erbottlewat\")."
   ]
  },
  {
   "cell_type": "code",
   "execution_count": 228,
   "metadata": {},
   "outputs": [],
   "source": [
    "# s2 will always be a sub-string of s1+s1 if it is a rotation, since it does not matter where the split is.\n",
    "def str_rotate(s1, s2):\n",
    "    s1_squared = s1 + s1\n",
    "    return s2 in s1_squared"
   ]
  },
  {
   "cell_type": "code",
   "execution_count": 229,
   "metadata": {},
   "outputs": [
    {
     "data": {
      "text/plain": [
       "True"
      ]
     },
     "execution_count": 229,
     "metadata": {},
     "output_type": "execute_result"
    }
   ],
   "source": [
    "str_rotate(\"waterbottle\", \"erbottlewat\")"
   ]
  },
  {
   "cell_type": "code",
   "execution_count": null,
   "metadata": {},
   "outputs": [],
   "source": []
  }
 ],
 "metadata": {
  "kernelspec": {
   "display_name": "Python 3",
   "language": "python",
   "name": "python3"
  },
  "language_info": {
   "codemirror_mode": {
    "name": "ipython",
    "version": 3
   },
   "file_extension": ".py",
   "mimetype": "text/x-python",
   "name": "python",
   "nbconvert_exporter": "python",
   "pygments_lexer": "ipython3",
   "version": "3.6.0"
  }
 },
 "nbformat": 4,
 "nbformat_minor": 2
}
