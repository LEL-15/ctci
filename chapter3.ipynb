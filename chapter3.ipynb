{
 "cells": [
  {
   "cell_type": "markdown",
   "metadata": {},
   "source": [
    "## Chapter 3: Stacks and Queues"
   ]
  },
  {
   "cell_type": "code",
   "execution_count": 1,
   "metadata": {},
   "outputs": [],
   "source": [
    "class Stack:\n",
    "    def __init__(self):\n",
    "        self.items = []\n",
    "    def is_empty(self):\n",
    "        return self.items == []\n",
    "    def push(self, item):\n",
    "        self.items.append(item)\n",
    "    def pop(self):\n",
    "        return self.items.pop() # Python's pop removes the last element in the list and returns it\n",
    "    def peek(self):\n",
    "        # Peek returns the top of the stack\n",
    "        return self.items[-1]\n",
    "    def size(self):\n",
    "        return len(self.items)\n",
    "\n",
    "class Queue:\n",
    "    def __init__(self):\n",
    "        self.items = []\n",
    "    def is_empty(self):\n",
    "        return self.items == []\n",
    "    def add(self, item):\n",
    "        self.items.append(item)\n",
    "    def remove(self):\n",
    "        del self.items[0] # Python's del removes an indexed element in O(1) time\n",
    "    def peek(self):\n",
    "        # Peek returns the top of the queue\n",
    "        return self.items[0]\n",
    "    def size(self):\n",
    "        return len(self.items)"
   ]
  },
  {
   "cell_type": "markdown",
   "metadata": {},
   "source": [
    "#### 3.1 Three in One:\n",
    "Describe how you could use a single array to implement three stacks."
   ]
  },
  {
   "cell_type": "markdown",
   "metadata": {},
   "source": [
    "To use a single array to implement three stacks, one could fix the available space for a single stack, then divide the array into three parts to hold each stack."
   ]
  },
  {
   "cell_type": "code",
   "execution_count": 15,
   "metadata": {},
   "outputs": [],
   "source": [
    "# Each stack will have a threshhold of 15 items (at first).\n",
    "class ThreeStack:\n",
    "    def __init__(self, size=45, num_stacks=3):\n",
    "        self.items = [None] * size\n",
    "        self.size = size\n",
    "        self.num_stacks = num_stacks\n",
    "        self.stack_size = int(size / num_stacks)\n",
    "    def is_empty(self, stack_id):\n",
    "        # stack_id starts at 1\n",
    "        return self.items[self.stack_size * (stack_id - 1)] is None\n",
    "    def push(self, stack_id, item):\n",
    "        count = 0\n",
    "        index = self.stack_size * (stack_id - 1)\n",
    "        while count < self.stack_size:\n",
    "            if self.items[index] is None:\n",
    "                self.items[index] = item\n",
    "                return \"Successfully added.\"\n",
    "            else:\n",
    "                count += 1\n",
    "                index += 1\n",
    "        return \"Stack full.\"\n",
    "    def pop(self, stack_id):\n",
    "        count = 0\n",
    "        index = self.stack_size * (stack_id - 1)\n",
    "        while count < self.stack_size:\n",
    "            if self.items[index] is None and count > 0:\n",
    "                result = self.items[index - 1]\n",
    "                self.items[index - 1] = None\n",
    "                return result\n",
    "            elif self.items[index] is None:\n",
    "                return Exception(\"Stack is empty.\")\n",
    "            else:\n",
    "                count += 1\n",
    "                index += 1\n",
    "    def peek(self, stack_id):\n",
    "        count = 0\n",
    "        index = self.stack_size * (stack_id - 1)\n",
    "        while count < self.stack_size:\n",
    "            if self.items[index] is None and count > 0:\n",
    "                return self.items[index - 1]\n",
    "            elif self.items[index] is None:\n",
    "                return Exception(\"Stack is empty.\")\n",
    "            else:\n",
    "                count += 1\n",
    "                index += 1"
   ]
  },
  {
   "cell_type": "markdown",
   "metadata": {},
   "source": [
    "#### 3.2 Stack Min\n",
    "How would you design a stack which, in addition to push and pop, has a function min which returns the minimum element? Push, pop and min should all operate in O(1) time."
   ]
  },
  {
   "cell_type": "code",
   "execution_count": 103,
   "metadata": {},
   "outputs": [],
   "source": [
    "class StackMin(Stack):\n",
    "    def __init__(self, min_stack=None):\n",
    "        self.min_stack = min_stack\n",
    "        super().__init__()\n",
    "    def push(self, item):\n",
    "        if self.min_stack is None:\n",
    "            self.min_stack = item\n",
    "        self.items.append(item)\n",
    "    def minStack(self):\n",
    "        return self.min_stack"
   ]
  },
  {
   "cell_type": "code",
   "execution_count": 104,
   "metadata": {},
   "outputs": [],
   "source": [
    "test = StackMin()"
   ]
  },
  {
   "cell_type": "code",
   "execution_count": 105,
   "metadata": {},
   "outputs": [],
   "source": [
    "test.push(4)\n",
    "test.push(5)\n",
    "test.push(8)\n",
    "test.push(9)"
   ]
  },
  {
   "cell_type": "code",
   "execution_count": 106,
   "metadata": {},
   "outputs": [
    {
     "name": "stdout",
     "output_type": "stream",
     "text": [
      "4\n"
     ]
    }
   ],
   "source": [
    "print(test.minStack())"
   ]
  },
  {
   "cell_type": "code",
   "execution_count": 112,
   "metadata": {},
   "outputs": [
    {
     "name": "stdout",
     "output_type": "stream",
     "text": [
      "4\n"
     ]
    }
   ],
   "source": [
    "test.push(1)\n",
    "print(test.minStack())"
   ]
  },
  {
   "cell_type": "markdown",
   "metadata": {},
   "source": [
    "#### 3.3 Stack of Plates\n",
    "Imagine a (literal) stack of plates. If the stack gets too high, it might topple. Therefore, in real life, we would likely start a new stack when the previous stack exceeds some threshold. Implement a data structure SetOfStacks that mimics this. SetOfStacks should be composed of several stacks and should create a new stack once the previous one exceeds capacity. SetOfStacks.push() and SetOfStacks.pop() should behave identically to a single stack (that is, pop() should return the same values as it would if there were just a single stack).\n",
    "\n",
    "FOLLOW UP\n",
    "\n",
    "Implement a function popAt(int index) which performs a pop operation on a specific sub-stack."
   ]
  },
  {
   "cell_type": "code",
   "execution_count": 120,
   "metadata": {},
   "outputs": [],
   "source": [
    "class SetOfStacks():\n",
    "    def __init__(self, capacity=10):\n",
    "        self.capacity = capacity\n",
    "        self.items = [[]]\n",
    "    def is_empty():\n",
    "        return self.items == [[]]\n",
    "    def push(item):\n",
    "        if len(self.items[-1]) <= capacity:\n",
    "            self.items[-1].append(item)\n",
    "        else:\n",
    "            self.items.append([item])\n",
    "    def pop(item):\n",
    "        if len(self.items) > 1 and len(self.items[-1]) <= 1:\n",
    "            temp = self.items[-1].pop()\n",
    "            del self.items[-1]\n",
    "            return temp()\n",
    "        else:\n",
    "            return self.items[-1].pop()\n",
    "    def peek():\n",
    "        return self.items[-1][-1]\n",
    "    def popAt(index):\n",
    "        result = self.items[index].pop()\n",
    "        size = len(self.items)\n",
    "        # Check to see if a shift is necessary\n",
    "        if index == size - 1:\n",
    "            return result\n",
    "        # Rebalance the stacks\n",
    "        while index < size - 2:\n",
    "            self.items[index].append(self.items[index + 1].pop(0))\n",
    "            index += 1\n",
    "        return result"
   ]
  },
  {
   "cell_type": "code",
   "execution_count": 116,
   "metadata": {},
   "outputs": [],
   "source": [
    "l = [[]]"
   ]
  },
  {
   "cell_type": "code",
   "execution_count": 117,
   "metadata": {},
   "outputs": [
    {
     "data": {
      "text/plain": [
       "0"
      ]
     },
     "execution_count": 117,
     "metadata": {},
     "output_type": "execute_result"
    }
   ],
   "source": [
    "len(l[-1])"
   ]
  },
  {
   "cell_type": "markdown",
   "metadata": {},
   "source": [
    "#### 3.4 Queues via Stacks\n",
    "Implement a MyQueue class which implements a queue using two stacks."
   ]
  },
  {
   "cell_type": "code",
   "execution_count": 124,
   "metadata": {},
   "outputs": [],
   "source": [
    "class MyQueue():\n",
    "    def __init__(self):\n",
    "        self.front_first = Stack()\n",
    "        self.back_first = Stack()\n",
    "    def is_empty():\n",
    "        return self.front_first.is_empty() and self.back_first.is_empty()\n",
    "    def switch():\n",
    "        if self.front_first.is_empty():\n",
    "            while not self.back_first.is_empty():\n",
    "                self.front_first.push(self.back_first.pop())\n",
    "        else:\n",
    "            while not self.front_first.is_empty():\n",
    "                self.back_first.push(self.front_first.pop())\n",
    "    def add(item):\n",
    "        if self.is_empty(item):\n",
    "            self.front_first.push(item)\n",
    "        else:\n",
    "            if self.front_first.is_empty():\n",
    "                self.switch()\n",
    "                self.front_first.push()\n",
    "    def remove():\n",
    "        if self.is_empty():\n",
    "            return Exception(\"Queue is empty.\")\n",
    "        if self.back_first.is_empty():\n",
    "            self.switch()\n",
    "            self.back_first.pop()\n",
    "        else:\n",
    "            self.back_first.pop()\n",
    "    def peek():\n",
    "        if self.is_empty():\n",
    "            return Exception(\"Queue is empty.\")\n",
    "        if self.back_first.is_empty():\n",
    "            self.switch()\n",
    "            return self.back_first.peek()\n",
    "        else:\n",
    "            return self.back_first.peek()"
   ]
  },
  {
   "cell_type": "markdown",
   "metadata": {},
   "source": [
    "#### 3.5 Sort Stack\n",
    "Write a program to sort a stack such that the smallest items are on the top. You can use an additional temporary stack, but you may not copy the elements into any other data structure (such as an array). The stack supports the following operations: push, pop, peek, and isEmpty."
   ]
  },
  {
   "cell_type": "code",
   "execution_count": 125,
   "metadata": {},
   "outputs": [],
   "source": [
    "def sort_stack(stack):\n",
    "    if stack.is_empty():\n",
    "        return Exception(\"Stack is empty.\")\n",
    "    buffer_stack = Stack()\n",
    "    while not stack.is_empty():\n",
    "        element = stack.pop()\n",
    "        while (not buffer_stack.is_empty()) and (element < buffer_stack.peek()):\n",
    "            stack.push(buffer_stack.pop())\n",
    "        buffer_stack.push(element)\n",
    "    while (not buffer_stack.is_empty()):\n",
    "        stack.push(buffer_stack.pop())"
   ]
  },
  {
   "cell_type": "code",
   "execution_count": 126,
   "metadata": {},
   "outputs": [
    {
     "name": "stdout",
     "output_type": "stream",
     "text": [
      "[4, 3, 7, 3, 0, 10]\n"
     ]
    }
   ],
   "source": [
    "test_sort = Stack()\n",
    "test_sort.push(4)\n",
    "test_sort.push(3)\n",
    "test_sort.push(7)\n",
    "test_sort.push(3)\n",
    "test_sort.push(0)\n",
    "test_sort.push(10)\n",
    "print(test_sort.items)"
   ]
  },
  {
   "cell_type": "code",
   "execution_count": 127,
   "metadata": {},
   "outputs": [
    {
     "name": "stdout",
     "output_type": "stream",
     "text": [
      "[10, 7, 4, 3, 3, 0]\n"
     ]
    }
   ],
   "source": [
    "sort_stack(test_sort)\n",
    "print(test_sort.items)"
   ]
  },
  {
   "cell_type": "markdown",
   "metadata": {},
   "source": [
    "#### 3.6 Animal Shelter\n",
    "An animal shelter, which holds only dogs and cats, operates on a strictly \"first in, first out\" basis. People must adopt either the \"oldest\" (based on arrival time) of all animals at the shelter, or they can select whether they would prefer a dog or a cat (and will receive the oldest animal of that type). They cannot select which specific animal they would like. Create the data structures to maintain this system and implement operations such as enqueue, dequeueAny, dequeueDog, and dequeueCat. You may use the built-in LinkedList data structure."
   ]
  },
  {
   "cell_type": "code",
   "execution_count": 129,
   "metadata": {},
   "outputs": [],
   "source": [
    "class Animal():\n",
    "    def __init__(self, name, species):\n",
    "        self.name = name\n",
    "        self.species = species\n",
    "class AnimalShelter():\n",
    "    def __init__(self):\n",
    "        self.dog_queue = []\n",
    "        self.cat_queue = []\n",
    "        self.queue = []\n",
    "    def enqueue(animal):\n",
    "        if animal.species == \"dog\":\n",
    "            self.dog_queue.append(animal)\n",
    "        else:\n",
    "            self.cat_queue.append(animal)\n",
    "        self.queue.append(animal)\n",
    "    def dequeue_any(species=None):\n",
    "        if species is None:\n",
    "            return self.queue.pop(0)\n",
    "        else:\n",
    "            index = 0\n",
    "            while index < len(self.queue):\n",
    "                if self.queue[index].species == species:\n",
    "                    return self.queue[index]\n",
    "                else:\n",
    "                    index += 1\n",
    "            return Exception(\"Animal preference unavailable.\")\n",
    "    def dequeue_dog():\n",
    "        return self.dequeue_any(\"dog\")\n",
    "    def dequeue_cat():\n",
    "        return self.dequeue_any(\"cat\")"
   ]
  },
  {
   "cell_type": "code",
   "execution_count": null,
   "metadata": {},
   "outputs": [],
   "source": []
  }
 ],
 "metadata": {
  "kernelspec": {
   "display_name": "Python 3",
   "language": "python",
   "name": "python3"
  },
  "language_info": {
   "codemirror_mode": {
    "name": "ipython",
    "version": 3
   },
   "file_extension": ".py",
   "mimetype": "text/x-python",
   "name": "python",
   "nbconvert_exporter": "python",
   "pygments_lexer": "ipython3",
   "version": "3.6.0"
  }
 },
 "nbformat": 4,
 "nbformat_minor": 2
}
