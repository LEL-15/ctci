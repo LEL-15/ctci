{
 "cells": [
  {
   "cell_type": "markdown",
   "metadata": {},
   "source": [
    "## Chapter 2: Linked Lists"
   ]
  },
  {
   "cell_type": "code",
   "execution_count": 1,
   "metadata": {},
   "outputs": [],
   "source": [
    "# Linked List Python Implementation\n",
    "class Node:\n",
    "    def __init__(self, val=None):\n",
    "        self.val = val\n",
    "        self.next = None\n",
    "    def insert(self, node):\n",
    "        self.next = node\n",
    "class LinkedList:\n",
    "    def __init__(self, val=None):\n",
    "        self.head = Node(val)\n",
    "    def list_print(self):\n",
    "        print_val = self.head\n",
    "        while print_val is not None:\n",
    "            print(print_val.val)\n",
    "            print_val = print_val.next\n",
    "    def insert(self, val):\n",
    "        last = self.head.next\n",
    "        if last is None:\n",
    "            last = self.head\n",
    "        while last.next is not None:\n",
    "            last = last.next\n",
    "        if last is None:\n",
    "            last = Node(val)\n",
    "        else:\n",
    "            last.next = Node(val)"
   ]
  },
  {
   "cell_type": "markdown",
   "metadata": {},
   "source": [
    "#### 2.1 Remove Dups\n",
    "Write code to remove duplicates from an unsorted linked list. How would you solve this problem if a temporary buffer is not allowed?"
   ]
  },
  {
   "cell_type": "code",
   "execution_count": 2,
   "metadata": {},
   "outputs": [],
   "source": [
    "list1 = LinkedList(32)"
   ]
  },
  {
   "cell_type": "code",
   "execution_count": 3,
   "metadata": {},
   "outputs": [],
   "source": [
    "node1 = Node(45)"
   ]
  },
  {
   "cell_type": "code",
   "execution_count": 4,
   "metadata": {},
   "outputs": [],
   "source": [
    "list1 = LinkedList(32)"
   ]
  },
  {
   "cell_type": "code",
   "execution_count": 5,
   "metadata": {},
   "outputs": [
    {
     "name": "stdout",
     "output_type": "stream",
     "text": [
      "32\n"
     ]
    }
   ],
   "source": [
    "print(list1.head.val)"
   ]
  },
  {
   "cell_type": "code",
   "execution_count": 6,
   "metadata": {},
   "outputs": [
    {
     "data": {
      "text/plain": [
       "False"
      ]
     },
     "execution_count": 6,
     "metadata": {},
     "output_type": "execute_result"
    }
   ],
   "source": [
    "None is not None"
   ]
  },
  {
   "cell_type": "code",
   "execution_count": 7,
   "metadata": {},
   "outputs": [],
   "source": [
    "list1.head.next = Node(45)"
   ]
  },
  {
   "cell_type": "code",
   "execution_count": 8,
   "metadata": {},
   "outputs": [
    {
     "name": "stdout",
     "output_type": "stream",
     "text": [
      "32\n",
      "45\n"
     ]
    }
   ],
   "source": [
    "list1.list_print()"
   ]
  },
  {
   "cell_type": "code",
   "execution_count": 9,
   "metadata": {},
   "outputs": [],
   "source": [
    "list1.insert(65)"
   ]
  },
  {
   "cell_type": "code",
   "execution_count": 10,
   "metadata": {},
   "outputs": [
    {
     "name": "stdout",
     "output_type": "stream",
     "text": [
      "32\n",
      "45\n",
      "65\n"
     ]
    }
   ],
   "source": [
    "list1.list_print()"
   ]
  },
  {
   "cell_type": "code",
   "execution_count": 11,
   "metadata": {},
   "outputs": [],
   "source": [
    "list1.insert(65)"
   ]
  },
  {
   "cell_type": "code",
   "execution_count": 12,
   "metadata": {},
   "outputs": [
    {
     "name": "stdout",
     "output_type": "stream",
     "text": [
      "32\n",
      "45\n",
      "65\n",
      "65\n"
     ]
    }
   ],
   "source": [
    "list1.list_print()"
   ]
  },
  {
   "cell_type": "code",
   "execution_count": 13,
   "metadata": {},
   "outputs": [],
   "source": [
    "# Goes through the linked list, recording unique values in a list. Then, returns the unique values.\n",
    "def remove_dups(lst):\n",
    "    node = lst.head\n",
    "    if node is None:\n",
    "        return lst\n",
    "    htable = []\n",
    "    newlst = LinkedList(node.val)\n",
    "    next_node = node.next\n",
    "    while next_node is not None:\n",
    "        if next_node.val not in htable:\n",
    "            htable.append(next_node.val)\n",
    "        next_node = next_node.next\n",
    "    for n in htable:\n",
    "        newlst.insert(n)\n",
    "    return newlst"
   ]
  },
  {
   "cell_type": "code",
   "execution_count": 14,
   "metadata": {},
   "outputs": [],
   "source": [
    "list2 = remove_dups(list1)"
   ]
  },
  {
   "cell_type": "code",
   "execution_count": 15,
   "metadata": {},
   "outputs": [
    {
     "name": "stdout",
     "output_type": "stream",
     "text": [
      "32\n",
      "45\n",
      "65\n"
     ]
    }
   ],
   "source": [
    "list2.list_print()"
   ]
  },
  {
   "cell_type": "markdown",
   "metadata": {},
   "source": [
    "#### 2.2 Return Kth to Last\n",
    "Implement an algorithm to find the kth to last element of a singly linked list."
   ]
  },
  {
   "cell_type": "code",
   "execution_count": 16,
   "metadata": {},
   "outputs": [],
   "source": [
    "# Create a buffer to hold the visited elements, then when the last is traversed, return the first element of the buffer.\n",
    "# O(N) time to traverse the list and create the buffer, then O(1) time to do the lookup of the kth to last element. O(N) time overall. O(N) space to store the buffer.\n",
    "def kth(lst, k):\n",
    "    if k <= 0:\n",
    "        return ValueError(\"k must be greater than 0.\")\n",
    "    node = lst.head\n",
    "    if node is None:\n",
    "        return Exception(\"Empty linked list.\")\n",
    "    next_node = node.next\n",
    "    buffer = [node]\n",
    "    while next_node is not None:\n",
    "        buffer.append(next_node)\n",
    "        next_node = next_node.next\n",
    "    if len(buffer) >= k:\n",
    "        return buffer[-k].val\n",
    "    else:\n",
    "        return ValueError(\"k must be smaller than the linked list.\")"
   ]
  },
  {
   "cell_type": "code",
   "execution_count": 17,
   "metadata": {},
   "outputs": [
    {
     "data": {
      "text/plain": [
       "ValueError('k must be smaller than the linked list.')"
      ]
     },
     "execution_count": 17,
     "metadata": {},
     "output_type": "execute_result"
    }
   ],
   "source": [
    "kth(list2,10)"
   ]
  },
  {
   "cell_type": "markdown",
   "metadata": {},
   "source": [
    "#### 2.3 Delete Middle Node\n",
    "Implement an algorithm to delete a node in the middle (i.e., any node but the first and last node, not necessarily the exact middle) of a singly linked list, given only access to that node."
   ]
  },
  {
   "cell_type": "code",
   "execution_count": 18,
   "metadata": {},
   "outputs": [],
   "source": [
    "def del_node_legacy(lst, target):\n",
    "    current = lst.head\n",
    "    if current is None or current.val == target:\n",
    "        return ValueError(\"Improper inputs.\")\n",
    "    next_node = current.next\n",
    "    while next_node is not None:\n",
    "        if next_node.val == target:\n",
    "            current.next = next_node.next\n",
    "        current = next_node\n",
    "        next_node = current.next\n",
    "\n",
    "def del_node(target):\n",
    "    next_node = target.next\n",
    "    if target.next is None:\n",
    "        return ValueError(\"Target is at the end of the linked list.\")\n",
    "    target.val = next_node.val\n",
    "    target.next = next_node.next"
   ]
  },
  {
   "cell_type": "code",
   "execution_count": 19,
   "metadata": {},
   "outputs": [
    {
     "name": "stdout",
     "output_type": "stream",
     "text": [
      "32\n",
      "45\n",
      "65\n"
     ]
    }
   ],
   "source": [
    "list2.list_print()"
   ]
  },
  {
   "cell_type": "code",
   "execution_count": 20,
   "metadata": {},
   "outputs": [],
   "source": [
    "del_node(list1.head.next)"
   ]
  },
  {
   "cell_type": "code",
   "execution_count": 21,
   "metadata": {},
   "outputs": [
    {
     "name": "stdout",
     "output_type": "stream",
     "text": [
      "32\n",
      "65\n",
      "65\n"
     ]
    }
   ],
   "source": [
    "list1.list_print()"
   ]
  },
  {
   "cell_type": "markdown",
   "metadata": {},
   "source": [
    "#### 2.4 Partition\n",
    "Write code to partition a linked list around a value x, such that all nodes less than x come before all nodes greater than or equal to x. lf x is contained within the list, the values of x only need to be after the elements less than x (see below).The partition element x can appear anywhere in the \"right partition\"; it does not need to appear between the left and right partitions."
   ]
  },
  {
   "cell_type": "code",
   "execution_count": 22,
   "metadata": {},
   "outputs": [],
   "source": [
    "def partition(lst, pivot):\n",
    "    smaller = []\n",
    "    larger = []\n",
    "    current = lst.head\n",
    "    if current is None:\n",
    "        return ValueError(\"Linked list is empty.\")\n",
    "    if current.next is None:\n",
    "        return lst\n",
    "    while current is not None:\n",
    "        if current.val < pivot:\n",
    "            smaller.append(current.val)\n",
    "        else:\n",
    "            larger.append(current.val)\n",
    "        current = current.next\n",
    "    final = LinkedList(smaller.pop(0))\n",
    "    for value in smaller:\n",
    "        final.insert(value)\n",
    "    for value in larger:\n",
    "        final.insert(value)\n",
    "    return final"
   ]
  },
  {
   "cell_type": "code",
   "execution_count": 23,
   "metadata": {},
   "outputs": [
    {
     "name": "stdout",
     "output_type": "stream",
     "text": [
      "32\n",
      "65\n",
      "65\n"
     ]
    }
   ],
   "source": [
    "list1.list_print()"
   ]
  },
  {
   "cell_type": "code",
   "execution_count": 24,
   "metadata": {},
   "outputs": [
    {
     "name": "stdout",
     "output_type": "stream",
     "text": [
      "32\n",
      "65\n",
      "65\n"
     ]
    }
   ],
   "source": [
    "partition(list1, 43).list_print()"
   ]
  },
  {
   "cell_type": "markdown",
   "metadata": {},
   "source": [
    "#### 2.5 Sum Lists\n",
    "You have two numbers represented by a linked list, where each node contains a single digit. The digits are stored in reverse order, such that the 1's digit is at the head of the list. Write a function that adds the two numbers and returns the sum as a linked list."
   ]
  },
  {
   "cell_type": "code",
   "execution_count": 52,
   "metadata": {},
   "outputs": [],
   "source": [
    "# Creates a pointer for each list, then iterates through, adding and carrying digits as necessary.\n",
    "def sum_lists(lst1, lst2):\n",
    "    pointer1 = lst1.head\n",
    "    pointer2 = lst2.head\n",
    "    final = LinkedList()\n",
    "    if pointer1 is None and pointer2 is not None:\n",
    "        return lst2\n",
    "    elif pointer1 is not None and pointer2 is None:\n",
    "        return lst1\n",
    "    carry = 0\n",
    "    while pointer1 is not None or pointer2 is not None:\n",
    "        if pointer1 is None and pointer2 is not None:\n",
    "            result = pointer2.val + carry\n",
    "            pointer2 = pointer2.next\n",
    "        elif pointer1 is not None and pointer2 is None:\n",
    "            result = pointer1.val + carry\n",
    "            pointer1 = pointer1.next\n",
    "        else:\n",
    "            result = pointer1.val + pointer2.val + carry\n",
    "            pointer1 = pointer1.next\n",
    "            pointer2 = pointer2.next\n",
    "        if result >= 10:\n",
    "            result = result % 10\n",
    "            carry = 1\n",
    "        else:\n",
    "            carry = 0\n",
    "        if final.head.val is not None:\n",
    "            final.insert(result)\n",
    "        else:\n",
    "            final.head = Node(result)\n",
    "    if carry == 1:\n",
    "        final.insert(carry)\n",
    "    return final"
   ]
  },
  {
   "cell_type": "code",
   "execution_count": 44,
   "metadata": {},
   "outputs": [],
   "source": [
    "digits1 = LinkedList(9)"
   ]
  },
  {
   "cell_type": "code",
   "execution_count": 45,
   "metadata": {},
   "outputs": [
    {
     "name": "stdout",
     "output_type": "stream",
     "text": [
      "9\n"
     ]
    }
   ],
   "source": [
    "digits1.list_print()"
   ]
  },
  {
   "cell_type": "code",
   "execution_count": 46,
   "metadata": {},
   "outputs": [],
   "source": [
    "digits1.insert(5)"
   ]
  },
  {
   "cell_type": "code",
   "execution_count": 47,
   "metadata": {},
   "outputs": [],
   "source": [
    "digits1.insert(6)"
   ]
  },
  {
   "cell_type": "code",
   "execution_count": 48,
   "metadata": {},
   "outputs": [
    {
     "name": "stdout",
     "output_type": "stream",
     "text": [
      "9\n",
      "5\n",
      "6\n"
     ]
    }
   ],
   "source": [
    "digits1.list_print()"
   ]
  },
  {
   "cell_type": "code",
   "execution_count": 49,
   "metadata": {},
   "outputs": [],
   "source": [
    "digits2 = digits1"
   ]
  },
  {
   "cell_type": "code",
   "execution_count": 50,
   "metadata": {},
   "outputs": [
    {
     "name": "stdout",
     "output_type": "stream",
     "text": [
      "9\n",
      "5\n",
      "6\n"
     ]
    }
   ],
   "source": [
    "digits2.list_print()"
   ]
  },
  {
   "cell_type": "code",
   "execution_count": 51,
   "metadata": {},
   "outputs": [
    {
     "name": "stdout",
     "output_type": "stream",
     "text": [
      "8\n",
      "1\n",
      "3\n",
      "1\n"
     ]
    }
   ],
   "source": [
    "sum_lists(digits1, digits2).list_print()"
   ]
  },
  {
   "cell_type": "markdown",
   "metadata": {},
   "source": [
    "#### 2.6 Palindrome\n",
    "Implement a function to check if a linked list is a palindrome."
   ]
  },
  {
   "cell_type": "code",
   "execution_count": 188,
   "metadata": {},
   "outputs": [],
   "source": [
    "def palindrome(lst):\n",
    "    current = lst.head\n",
    "    reverse = LinkedList()\n",
    "    if current is None:\n",
    "        return False\n",
    "    if current.next is None:\n",
    "        return True\n",
    "    while current.val is not None:\n",
    "        temp = reverse.head\n",
    "        reverse.head = current\n",
    "        reverse.head.next = temp\n",
    "        current = current.next\n",
    "    rev_pointer = reverse.head\n",
    "    current = lst.head\n",
    "    while current.val is not None:\n",
    "        if current.val != rev_pointer.val:\n",
    "            return False\n",
    "        current = current.next\n",
    "        rev_pointer = rev_pointer.next\n",
    "    return reverse"
   ]
  },
  {
   "cell_type": "code",
   "execution_count": 189,
   "metadata": {},
   "outputs": [],
   "source": [
    "palin = LinkedList('a')"
   ]
  },
  {
   "cell_type": "code",
   "execution_count": 190,
   "metadata": {},
   "outputs": [],
   "source": [
    "palin.insert('b')"
   ]
  },
  {
   "cell_type": "code",
   "execution_count": 191,
   "metadata": {},
   "outputs": [],
   "source": [
    "palin.insert('r')"
   ]
  },
  {
   "cell_type": "code",
   "execution_count": 192,
   "metadata": {},
   "outputs": [],
   "source": [
    "palin.insert('h')"
   ]
  },
  {
   "cell_type": "code",
   "execution_count": 193,
   "metadata": {},
   "outputs": [],
   "source": [
    "palin.insert('a')"
   ]
  },
  {
   "cell_type": "code",
   "execution_count": 194,
   "metadata": {},
   "outputs": [
    {
     "name": "stdout",
     "output_type": "stream",
     "text": [
      "a\n",
      "b\n",
      "r\n",
      "h\n",
      "a\n"
     ]
    }
   ],
   "source": [
    "palin.list_print()"
   ]
  },
  {
   "cell_type": "code",
   "execution_count": 195,
   "metadata": {},
   "outputs": [
    {
     "name": "stdout",
     "output_type": "stream",
     "text": [
      "a\n",
      "None\n"
     ]
    }
   ],
   "source": [
    "palindrome(palin).list_print()"
   ]
  },
  {
   "cell_type": "markdown",
   "metadata": {},
   "source": [
    "#### 2.7 Intersection\n",
    "Given two (singly) linked lists, determine if the two lists intersect. Return the intersecting node. Note that the intersection is defined based on reference, not value. That is, if the kth node of the first linked list is the exact same node (by reference) as the jth node of the second linked list, then they are intersecting."
   ]
  },
  {
   "cell_type": "code",
   "execution_count": 196,
   "metadata": {},
   "outputs": [],
   "source": [
    "# Use a hash set to store the values from one of the lists, then check the other list to see if any values are in the hash set. O(ab) time.\n",
    "def intersection(lst1, lst2):\n",
    "    unique = set()\n",
    "    pointer1 = lst1.head\n",
    "    pointer2 = lst2.head\n",
    "    if pointer1 is None or pointer2 is None:\n",
    "        return ValueError(\"One of the lists is empty.\")\n",
    "    while pointer1 is not None:\n",
    "        if pointer1 not in unique:\n",
    "            unique.add(pointer1)\n",
    "        pointer1 = pointer1.next\n",
    "    while pointer2 is not None:\n",
    "        if pointer2 not in unique:\n",
    "            unique.add(pointer2)\n",
    "        else:\n",
    "            return pointer2\n",
    "        pointer2 = pointer2.next\n",
    "    return Exception(\"Non-intersecting lists.\")"
   ]
  },
  {
   "cell_type": "markdown",
   "metadata": {},
   "source": [
    "#### 2.8 Loop Detection\n",
    "Given a circular linked list, implement an algorithm that returns the node at the beginning of the loop. A circular linked list is a (corrupt) linked list in which a node's next pointer points to an earlier node, so as to make a loop in the linked list."
   ]
  },
  {
   "cell_type": "code",
   "execution_count": 197,
   "metadata": {},
   "outputs": [],
   "source": [
    "def looper(lst):\n",
    "    slow = lst.head\n",
    "    fast = lst.head\n",
    "    while slow.next is not None:\n",
    "        if slow.next == fast.next.next:\n",
    "            return slow.next\n",
    "        else:\n",
    "            slow = slow.next\n",
    "            fast = fast.next\n",
    "    return Exception(\"Non-looping list.\")"
   ]
  },
  {
   "cell_type": "code",
   "execution_count": null,
   "metadata": {},
   "outputs": [],
   "source": []
  }
 ],
 "metadata": {
  "kernelspec": {
   "display_name": "Python 3",
   "language": "python",
   "name": "python3"
  },
  "language_info": {
   "codemirror_mode": {
    "name": "ipython",
    "version": 3
   },
   "file_extension": ".py",
   "mimetype": "text/x-python",
   "name": "python",
   "nbconvert_exporter": "python",
   "pygments_lexer": "ipython3",
   "version": "3.6.0"
  }
 },
 "nbformat": 4,
 "nbformat_minor": 2
}
